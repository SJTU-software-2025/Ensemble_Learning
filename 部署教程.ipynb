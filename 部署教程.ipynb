{
 "cells": [
  {
   "cell_type": "markdown",
   "id": "3eece4f9-a4dd-47e8-acea-5d438b0612f6",
   "metadata": {},
   "source": [
    "## 部署教程"
   ]
  },
  {
   "cell_type": "markdown",
   "id": "037608ea-3762-4bd5-b6a1-e71c68b4e0f4",
   "metadata": {},
   "source": [
    "本集成模型依托于VenusREM, ProSST 以及vespaG。故本文档主要介绍3个模型的介绍方法，部署完成后根据部署路径更改脚本中对应路径即可正常运行。"
   ]
  },
  {
   "cell_type": "markdown",
   "id": "d4d0a755-3ba8-40bc-bf06-0f147316809f",
   "metadata": {},
   "source": [
    "### 一.VenusREM部署"
   ]
  },
  {
   "cell_type": "markdown",
   "id": "221c6e9a-3a5a-427e-983a-c3f4aee1f07b",
   "metadata": {},
   "source": [
    "#### 1.克隆仓库"
   ]
  },
  {
   "cell_type": "code",
   "execution_count": null,
   "id": "ec9c9716-3342-40bf-a3e0-0285c8d10f73",
   "metadata": {},
   "outputs": [],
   "source": [
    "git clone https://github.com/ai4protein/VenusREM.git"
   ]
  },
  {
   "cell_type": "markdown",
   "id": "f2a905e6-a871-49bd-98a5-03a5e1fd48bd",
   "metadata": {},
   "source": [
    "#### 2.修改environment.yml"
   ]
  },
  {
   "cell_type": "code",
   "execution_count": null,
   "id": "6cf5be18-00d5-4785-ada2-cbae667b824f",
   "metadata": {},
   "outputs": [],
   "source": [
    "# 修改 environment.yml 文件，以下有三处需要修改\n",
    " \n",
    "name: venusrem\n",
    "...\n",
    "  - pip:\n",
    "      ...\n",
    "      # 1、删除或注释掉所有带 +pt25cu121 的 PyTorch Geometric 相关 pip 包：\n",
    "      # - pyg-lib==0.4.0+pt25cu121\n",
    "      # - torch-scatter==2.1.2+pt25cu121\n",
    "      # - torch-sparse==0.6.18+pt25cu121\n",
    "      # - torch-cluster==1.6.3+pt25cu121\n",
    "      # - torch-spline-conv==1.2.2+pt25cu121\n",
    " \n",
    "      # 2、删除或注释指定 PyTorch 版本的行，后续手动安装，防止依赖报错\n",
    "      # - torch==2.5.1+cu121\n",
    "      # - torchaudio==2.5.1+cu121      \n",
    "      # - torchvision==0.20.1+cu121\n",
    " \n",
    "      # 保留其他内容\n",
    "      - torch-geometric==2.6.1\n",
    " \n",
    "# 3、修改自己的conda或者miniconda3的路径\n",
    "prefix: /home/username/miniconda3/envs/venusrem\n",
    "AI写代码\n",
    "bash\n",
    "\n",
    "————————————————\n",
    "\n",
    "                            版权声明：本文为博主原创文章，遵循 CC 4.0 BY-SA 版权协议，转载请附上原文出处链接和本声明。\n",
    "                        \n",
    "原文链接：https://blog.csdn.net/qq_41025456/article/details/148555479"
   ]
  },
  {
   "cell_type": "markdown",
   "id": "0af20177-0e60-473b-aa11-ecc919ef51ce",
   "metadata": {},
   "source": [
    "#### 3.激活环境并安装PyTorch GPU 版本"
   ]
  },
  {
   "cell_type": "code",
   "execution_count": null,
   "id": "572a487f-fa25-4fd5-b567-ba99375893ac",
   "metadata": {},
   "outputs": [],
   "source": [
    "(bash)\n",
    "conda activate venusrem\n",
    "pip install torch==2.5.1 torchvision==0.20.1 torchaudio==2.5.1 --index-url https://download.pytorch.org/whl/cu121"
   ]
  },
  {
   "cell_type": "markdown",
   "id": "9c2b3036-60eb-434e-8503-e522034b45b5",
   "metadata": {},
   "source": [
    "#### 4.安装 PyG 依赖"
   ]
  },
  {
   "cell_type": "code",
   "execution_count": null,
   "id": "703ba5cd-a891-49f3-b2e1-c8142e1b6f9c",
   "metadata": {},
   "outputs": [],
   "source": [
    "(bash)\n",
    "pip install pyg-lib torch-scatter torch-sparse torch-cluster torch-spline-conv -f https://data.pyg.org/whl/torch-2.5.1+cu121.html"
   ]
  },
  {
   "cell_type": "markdown",
   "id": "229c1c5f-f2af-4d79-910a-c68d2762ab02",
   "metadata": {},
   "source": [
    "#### 5.安装多序列比对工具：HMMER 和 EVCouplings"
   ]
  },
  {
   "cell_type": "code",
   "execution_count": null,
   "id": "6bb27bfc-c661-4e60-ad80-e81c102d5e33",
   "metadata": {},
   "outputs": [],
   "source": [
    "(bash)\n",
    "pip install hmmer\n",
    "pip install https://github.com/debbiemarkslab/EVcouplings/archive/develop.zip"
   ]
  },
  {
   "cell_type": "markdown",
   "id": "1e2d4dc1-2dfc-416b-97f7-0dba811b65f7",
   "metadata": {},
   "source": [
    "#### 6.安装 PLMC：用于蛋白质协同突变建模（Potts Model）"
   ]
  },
  {
   "cell_type": "code",
   "execution_count": null,
   "id": "513c5d1d-e4fb-4d93-b11a-03c28a2d9adc",
   "metadata": {},
   "outputs": [],
   "source": [
    "(bash)\n",
    "git clone https://github.com/debbiemarkslab/plmc.git\n",
    "cd plmc\n",
    "make all-openmp"
   ]
  },
  {
   "cell_type": "markdown",
   "id": "d2db0a85-8563-4156-ae73-14d627597492",
   "metadata": {},
   "source": [
    "#### 7.配置路径"
   ]
  },
  {
   "cell_type": "code",
   "execution_count": null,
   "id": "dbb36283-fd05-41e6-87cc-32c8c2315693",
   "metadata": {},
   "outputs": [],
   "source": [
    "将src/single_config_monomer.txt文件中的plmc路径替换如下:\n",
    "plmc: /home/username/VenusREM/plmc/bin/plmc"
   ]
  },
  {
   "cell_type": "markdown",
   "id": "24231b2e-ef69-4f85-9aa9-b2cb362d37cb",
   "metadata": {},
   "source": [
    "#### 8.输入数据的格式"
   ]
  },
  {
   "cell_type": "code",
   "execution_count": null,
   "id": "ed9d516c-dded-4ae5-b848-298c7f018f79",
   "metadata": {},
   "outputs": [],
   "source": [
    "输入数据格式应如下：\n",
    "data/<your_protein_dir_name>/\n",
    "├── aa_seq/               # 原始氨基酸序列（fasta 格式）\n",
    "│   ├── protein1.fasta\n",
    "│   └── protein2.fasta\n",
    "├── aa_seq_aln_a2m/       # 同源序列比对结果（a2m 格式）\n",
    "│   ├── protein1.a2m\n",
    "│   └── protein2.a2m\n",
    "├── pdbs/                 # 蛋白质结构文件（pdb 格式）\n",
    "│   ├── protein1.pdb\n",
    "│   └── protein2.pdb\n",
    "├── struc_seq/            # 从结构提取的序列（fasta 格式）\n",
    "│   ├── protein1.fasta\n",
    "│   └── protein2.fasta\n",
    "├── substitutions/        # 单突变体文件（csv 格式）\n",
    "│   ├── protein1.csv\n",
    "│   └── protein2.csv"
   ]
  },
  {
   "cell_type": "markdown",
   "id": "d054e9ef-dff9-4caf-a80f-78c6e2355e4d",
   "metadata": {},
   "source": [
    "### 二.ProSST部署"
   ]
  },
  {
   "cell_type": "code",
   "execution_count": null,
   "id": "f52d4443-0117-49cb-a64b-0daf4f67c2cf",
   "metadata": {},
   "outputs": [],
   "source": [
    "(bash)\n",
    "git clone https://github.com/ai4protein/ProSST.git\n",
    "cd ProSST\n",
    "pip install -r requirements.txt\n",
    "export PYTHONPATH=$PYTHONPATH:$(pwd)"
   ]
  },
  {
   "cell_type": "code",
   "execution_count": null,
   "id": "b1790422-49ac-4517-9b5b-3581e8159fa7",
   "metadata": {},
   "outputs": [],
   "source": [
    "输入数据的结构应如下:\n",
    "└── ProSST_data/\n",
    "    ├── protein.fasta   # 野生型氨基酸序列（单条 fasta）\n",
    "    ├── protein.pdb     # 野生型三维结构（PDB 格式）\n",
    "    └── protein.csv     # 突变列表 + 实验 DMS_score"
   ]
  },
  {
   "cell_type": "markdown",
   "id": "8ad23cbf-7448-42b9-943a-538e883906b4",
   "metadata": {},
   "source": [
    "### 三.VespaG部署"
   ]
  },
  {
   "cell_type": "code",
   "execution_count": null,
   "id": "b8f73789-20d4-4d34-8562-d5ba4516ae6a",
   "metadata": {},
   "outputs": [],
   "source": [
    "(bash)\n",
    "conda create --name VespaG python=3.11\n",
    "conda activate VespaG\n",
    "git clone https://github.com/jschlensok/vespag.git\n",
    "cd vespag\n",
    "pip install ."
   ]
  },
  {
   "cell_type": "code",
   "execution_count": null,
   "id": "5dabde31-6a33-4bbd-bd89-4f34d78431cf",
   "metadata": {},
   "outputs": [],
   "source": [
    "数据结构为FASTA序列"
   ]
  }
 ],
 "metadata": {
  "kernelspec": {
   "display_name": "Python [conda env:pytorch_GPU]",
   "language": "python",
   "name": "conda-env-pytorch_GPU-py"
  },
  "language_info": {
   "codemirror_mode": {
    "name": "ipython",
    "version": 3
   },
   "file_extension": ".py",
   "mimetype": "text/x-python",
   "name": "python",
   "nbconvert_exporter": "python",
   "pygments_lexer": "ipython3",
   "version": "3.12.7"
  }
 },
 "nbformat": 4,
 "nbformat_minor": 5
}
